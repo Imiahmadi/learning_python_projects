{
 "cells": [
  {
   "cell_type": "markdown",
   "id": "e3e978c8-e424-440b-a336-fd3f5a9ea62d",
   "metadata": {},
   "source": [
    "#### Reading files and concatenation of CSVs"
   ]
  },
  {
   "cell_type": "code",
   "execution_count": 17,
   "id": "14129496-a16b-456e-bbb5-e84266b6ea15",
   "metadata": {},
   "outputs": [],
   "source": [
    "import pandas as pd\n",
    "import os"
   ]
  },
  {
   "cell_type": "code",
   "execution_count": 102,
   "id": "1b3f60c2-2764-4e51-8c55-6f5cafaf1728",
   "metadata": {},
   "outputs": [],
   "source": [
    "adress_files = \"/Users/iman/Documents/Python_notebooks/Python_learning_projects/pandas_sales_analysis/raw_data/\"\n",
    "files = [file for file in os.listdir(adress_files)]\n",
    "\n",
    "all_months_data = pd.DataFrame()\n",
    "for file in files: \n",
    "    if file != \".DS_Store\":\n",
    "        df = pd.read_csv(adress_files + file)\n",
    "        all_months_data = pd.concat([all_months_data, df])"
   ]
  },
  {
   "cell_type": "code",
   "execution_count": 104,
   "id": "ebe4fd5c-cd3c-40f9-b0a2-286b5c9fbe13",
   "metadata": {},
   "outputs": [
    {
     "data": {
      "text/plain": [
       "['Sales_December_2019.csv',\n",
       " '.DS_Store',\n",
       " 'Sales_April_2019.csv',\n",
       " 'Sales_February_2019.csv',\n",
       " 'Sales_March_2019.csv',\n",
       " 'Sales_August_2019.csv',\n",
       " 'Sales_May_2019.csv',\n",
       " 'Sales_November_2019.csv',\n",
       " 'Sales_October_2019.csv',\n",
       " 'Sales_January_2019.csv',\n",
       " 'Sales_September_2019.csv',\n",
       " 'Sales_July_2019.csv',\n",
       " 'Sales_June_2019.csv']"
      ]
     },
     "execution_count": 104,
     "metadata": {},
     "output_type": "execute_result"
    }
   ],
   "source": [
    "files"
   ]
  },
  {
   "cell_type": "code",
   "execution_count": 106,
   "id": "c6231916-be1a-4421-9363-878978620e11",
   "metadata": {},
   "outputs": [
    {
     "data": {
      "text/plain": [
       "(186850, 6)"
      ]
     },
     "execution_count": 106,
     "metadata": {},
     "output_type": "execute_result"
    }
   ],
   "source": [
    "all_months_data.shape"
   ]
  }
 ],
 "metadata": {
  "kernelspec": {
   "display_name": "Python 3 (ipykernel)",
   "language": "python",
   "name": "python3"
  },
  "language_info": {
   "codemirror_mode": {
    "name": "ipython",
    "version": 3
   },
   "file_extension": ".py",
   "mimetype": "text/x-python",
   "name": "python",
   "nbconvert_exporter": "python",
   "pygments_lexer": "ipython3",
   "version": "3.12.7"
  }
 },
 "nbformat": 4,
 "nbformat_minor": 5
}
