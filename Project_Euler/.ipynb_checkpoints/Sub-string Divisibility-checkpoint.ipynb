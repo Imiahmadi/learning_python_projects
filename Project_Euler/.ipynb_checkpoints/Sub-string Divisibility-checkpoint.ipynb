{
 "cells": [
  {
   "cell_type": "markdown",
   "id": "6e868b74-80c1-4050-bcef-39a3064a2813",
   "metadata": {},
   "source": [
    "<p>The number, $1406357289$, is a $0$ to $9$ pandigital number because it is made up of each of the digits $0$ to $9$ in some order, but it also has a rather interesting sub-string divisibility property.</p>\n",
    "<p>Let $d_1$ be the $1$<sup>st</sup> digit, $d_2$ be the $2$<sup>nd</sup> digit, and so on. In this way, we note the following:</p>\n",
    "<ul><li>$d_2d_3d_4=406$ is divisible by $2$</li>\n",
    "<li>$d_3d_4d_5=063$ is divisible by $3$</li>\n",
    "<li>$d_4d_5d_6=635$ is divisible by $5$</li>\n",
    "<li>$d_5d_6d_7=357$ is divisible by $7$</li>\n",
    "<li>$d_6d_7d_8=572$ is divisible by $11$</li>\n",
    "<li>$d_7d_8d_9=728$ is divisible by $13$</li>\n",
    "<li>$d_8d_9d_{10}=289$ is divisible by $17$</li>\n",
    "</ul><p>Find the sum of all $0$ to $9$ pandigital numbers with this property.</p>"
   ]
  },
  {
   "cell_type": "code",
   "execution_count": 13,
   "id": "61d50839-955c-4a7f-9ba7-9dac69e65fc7",
   "metadata": {},
   "outputs": [],
   "source": [
    "min_pan = 1023456789\n",
    "max_pan = 9876543210\n",
    "\n",
    "m = str(min_pan)[0] + str(min_pan)[1]\n",
    "\n"
   ]
  },
  {
   "cell_type": "code",
   "execution_count": 15,
   "id": "b928e641-e5dc-40eb-88e5-e240655e663c",
   "metadata": {},
   "outputs": [
    {
     "name": "stdout",
     "output_type": "stream",
     "text": [
      "not ok\n",
      "not ok\n"
     ]
    }
   ],
   "source": [
    "for i in range(0,10): \n",
    "    if str(min_pan).count(str(i)) != 1: \n",
    "        print(\"not ok\")\n",
    "        "
   ]
  },
  {
   "cell_type": "markdown",
   "id": "fa83d4bf-df53-493b-ba15-38f194548cf1",
   "metadata": {},
   "source": [
    "To do: function to test the criteria. \n",
    "    Criteria: \n",
    "    1- all numbers between 0 to 9 should be included. \n",
    "    2- divisibility "
   ]
  },
  {
   "cell_type": "code",
   "execution_count": null,
   "id": "9eb6478d-b1de-4881-8310-878043d4735f",
   "metadata": {},
   "outputs": [],
   "source": [
    "def meet_criteria():\n",
    "    "
   ]
  },
  {
   "cell_type": "markdown",
   "id": "64b63fd6-7ded-4690-b409-a318eb80792a",
   "metadata": {},
   "source": [
    "To do: get all numbers between min_pan and max_pan and check the criteria. "
   ]
  }
 ],
 "metadata": {
  "kernelspec": {
   "display_name": "Python 3 (ipykernel)",
   "language": "python",
   "name": "python3"
  },
  "language_info": {
   "codemirror_mode": {
    "name": "ipython",
    "version": 3
   },
   "file_extension": ".py",
   "mimetype": "text/x-python",
   "name": "python",
   "nbconvert_exporter": "python",
   "pygments_lexer": "ipython3",
   "version": "3.12.7"
  }
 },
 "nbformat": 4,
 "nbformat_minor": 5
}
